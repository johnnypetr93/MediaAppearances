{
 "cells": [
  {
   "cell_type": "markdown",
   "id": "03ba482c",
   "metadata": {},
   "source": [
    "<h1>Media Appearances</h1>\n",
    "\n",
    "This code is fetching articles from a media monitoring service Mediaboard (https://mediaboard.com) via API. Uses pagination to fetch all the data within a certain timeframe. Selects only relevant data, classifies articles based on brand relevancy and sends those data to Google Sheets to be later used as a source within Looker Studio dashboards."
   ]
  },
  {
   "cell_type": "code",
   "execution_count": 1,
   "id": "0de70dc7",
   "metadata": {},
   "outputs": [],
   "source": [
    "import pandas as pd\n",
    "from pandas import json_normalize\n",
    "import numpy as np\n",
    "import requests\n",
    "import gspread\n",
    "from oauth2client.service_account import ServiceAccountCredentials\n",
    "from datetime import date"
   ]
  },
  {
   "cell_type": "code",
   "execution_count": 2,
   "id": "bf7ab514",
   "metadata": {},
   "outputs": [],
   "source": [
    "APIToken = '###'\n",
    "GSheetsCred = '###'"
   ]
  },
  {
   "cell_type": "code",
   "execution_count": 3,
   "id": "6bc8d0f1",
   "metadata": {},
   "outputs": [],
   "source": [
    "# Country selection\n",
    "\n",
    "country = \"CZ\" # SK, HU"
   ]
  },
  {
   "cell_type": "code",
   "execution_count": 4,
   "id": "726efc52",
   "metadata": {},
   "outputs": [],
   "source": [
    "if country == \"CZ\":\n",
    "    country_id = \"67650\"\n",
    "    worksheet_id = 0\n",
    "    keywords = ['nesnězeno', 'nesnezeno']\n",
    "elif country == \"SK\":\n",
    "    country_id = \"67649\"\n",
    "    worksheet_id = 1\n",
    "    keywords = ['munch']\n",
    "elif country == \"HU\":\n",
    "    country_id = \"67648\"\n",
    "    worksheet_id = 2\n",
    "    keywords = ['munch']"
   ]
  },
  {
   "cell_type": "code",
   "execution_count": 5,
   "id": "33b8d4c7",
   "metadata": {},
   "outputs": [],
   "source": [
    "# Function to fetch data from API\n",
    "def get_posts(link):\n",
    "    url = link\n",
    "    headers = {\n",
    "        'Authorization': APIToken,\n",
    "        'Content-type': 'application/json; charset=utf-8'\n",
    "    }\n",
    "    response = requests.get(url, headers=headers)\n",
    "    \n",
    "    if response.status_code == 200:\n",
    "        # If the request was successful, parse the response as JSON\n",
    "        posts = response.json()\n",
    "        return posts\n",
    "    else:\n",
    "        # If the request failed, print the status code\n",
    "        print(f\"Failed to fetch posts. Status code: {response.status_code}\")\n",
    "        return None\n",
    "    \n",
    "# Function to count keywords\n",
    "def count_keywords(row, keywords):\n",
    "    count = sum(row.lower().count(keyword) for keyword in keywords)\n",
    "    return count\n",
    "\n",
    "# Function to categorize types of articles (About us, Mentioning us) based on mentions\n",
    "def categorize_count(row):\n",
    "    if row['title_keyword_count'] > 0: \n",
    "        return 'About us'\n",
    "    else:\n",
    "        if row['perex_keyword_count'] > 1 and row['text_keyword_count'] > 2:\n",
    "            return 'About us'\n",
    "        else:\n",
    "            return 'Mention'"
   ]
  },
  {
   "cell_type": "raw",
   "id": "53091ce8",
   "metadata": {},
   "source": [
    "# Script is going to run every 3 days updating the sheet at the bottom\n",
    "\n",
    "today = date.today()\n",
    "formatted_date = today.strftime(\"%Y-%m-%d\")\n",
    "upper_date = formatted_date\n",
    "\n",
    "lower_date = today - timedelta(day=3)"
   ]
  },
  {
   "cell_type": "code",
   "execution_count": 6,
   "id": "b5cc2777",
   "metadata": {},
   "outputs": [],
   "source": [
    "# First time updating - load data from 01-01-2023 to today\n",
    "today = date.today()\n",
    "formatted_date = today.strftime(\"%Y-%m-%d\")\n",
    "upper_date = formatted_date\n",
    "lower_date = \"2023-01-01\" #normálně \"2023-01-01\""
   ]
  },
  {
   "cell_type": "code",
   "execution_count": 8,
   "id": "1d9ba36e",
   "metadata": {},
   "outputs": [
    {
     "name": "stdout",
     "output_type": "stream",
     "text": [
      "https://api.mediaboard.com/feed/67650/?lower_date=2023-01-01&upper_date=2024-03-17&category_type=1\n",
      "20\n",
      "https://api.mediaboard.com/feed/next/Z895s/\n",
      "20\n",
      "https://api.mediaboard.com/feed/next/Z895s/\n",
      "16\n",
      "https://api.mediaboard.com/feed/next/Z895s/\n",
      "20\n",
      "https://api.mediaboard.com/feed/next/Z895s/\n",
      "20\n",
      "https://api.mediaboard.com/feed/next/Z895s/\n",
      "20\n",
      "https://api.mediaboard.com/feed/next/Z895s/\n",
      "20\n",
      "https://api.mediaboard.com/feed/next/Z895s/\n",
      "20\n",
      "https://api.mediaboard.com/feed/next/Z895s/\n",
      "20\n",
      "https://api.mediaboard.com/feed/next/Z895s/\n",
      "20\n",
      "https://api.mediaboard.com/feed/next/Z895s/\n",
      "20\n",
      "https://api.mediaboard.com/feed/next/Z895s/\n",
      "20\n",
      "https://api.mediaboard.com/feed/next/Z895s/\n",
      "2\n"
     ]
    }
   ],
   "source": [
    "#Mediaboard API connection + pagination\n",
    "\n",
    "next_url = f'https://api.mediaboard.com/feed/{country_id}/?lower_date={lower_date}&upper_date={upper_date}&category_type=1'\n",
    "\n",
    "my_list = []\n",
    "\n",
    "while next_url:\n",
    "    print(next_url)\n",
    "    posts = get_posts(next_url)\n",
    "    \n",
    "    next_url = posts['next_url']\n",
    "    articles = posts['articles']\n",
    "    \n",
    "    df = json_normalize(articles, sep='_')\n",
    "    print(len(df))\n",
    "    columns_to_keep = ['news_source_name', 'title', 'published', 'reach', 'url', 'text', 'perex', 'AVE', 'GRP']\n",
    "    filtered_df = df[columns_to_keep]\n",
    "    my_list.append(filtered_df)\n",
    "    \n",
    "final_df = pd.concat(my_list, ignore_index=True)"
   ]
  },
  {
   "cell_type": "code",
   "execution_count": 9,
   "id": "c79b0e48",
   "metadata": {},
   "outputs": [],
   "source": [
    "# Mentions counts - title, text and perex + article classification (About us, Mentioning us)\n",
    "\n",
    "final_df['title_keyword_count'] = final_df['title'].apply(count_keywords, args=(keywords,))\n",
    "final_df['perex_keyword_count'] = final_df['perex'].apply(count_keywords, args=(keywords,))\n",
    "final_df['text_keyword_count'] = final_df['text'].apply(count_keywords, args=(keywords,))\n",
    "\n",
    "final_df['Status'] = final_df.apply(categorize_count, axis=1)"
   ]
  },
  {
   "cell_type": "code",
   "execution_count": 12,
   "id": "d3cef5db",
   "metadata": {},
   "outputs": [
    {
     "name": "stderr",
     "output_type": "stream",
     "text": [
      "/var/folders/g4/1x4xl1_92cj02tdf3gqfw5qm0000gn/T/ipykernel_66561/1603637236.py:8: DeprecationWarning: The order of arguments in worksheet.update() has changed. Please pass values first and range_name secondor used named arguments (range_name=, values=)\n",
      "  sheet.update('A1', [['Publisher', 'Headline','Date', 'Reach', 'Link','Text','Perex','AVE','GRP','TitleKeywords','TextKeywords','PerexKeywords','MentionType']])\n"
     ]
    },
    {
     "data": {
      "text/plain": [
       "{'spreadsheetId': '19m61vn7V7pstGqXQuhA2hXv5fVDobMOtx2yggjhMBhM',\n",
       " 'updatedRange': \"'Czech Republic'!A1:M1\",\n",
       " 'updatedRows': 1,\n",
       " 'updatedColumns': 13,\n",
       " 'updatedCells': 13}"
      ]
     },
     "execution_count": 12,
     "metadata": {},
     "output_type": "execute_result"
    }
   ],
   "source": [
    "# Use creds to create a client to interact with the Google Drive API\n",
    "scope = ['https://spreadsheets.google.com/feeds', 'https://www.googleapis.com/auth/drive']\n",
    "creds = ServiceAccountCredentials.from_json_keyfile_name(GSheetsCred, scope)\n",
    "client = gspread.authorize(creds)\n",
    "\n",
    "# Open the spreadsheet and the first sheet\n",
    "sheet = client.open(\"MediaboardAPI\").get_worksheet(worksheet_id)\n",
    "sheet.update('A1', [['Publisher', 'Headline','Date', 'Reach', 'Link','Text','Perex','AVE','GRP','TitleKeywords','TextKeywords','PerexKeywords','MentionType']])\n"
   ]
  },
  {
   "cell_type": "code",
   "execution_count": 13,
   "id": "31090881",
   "metadata": {},
   "outputs": [],
   "source": [
    "# Latest empty cell row\n",
    "column_values = sheet.col_values(1)\n",
    "latest_empty_cell_row = len(column_values) + 1"
   ]
  },
  {
   "cell_type": "code",
   "execution_count": 14,
   "id": "b2605ccb",
   "metadata": {},
   "outputs": [
    {
     "name": "stdout",
     "output_type": "stream",
     "text": [
      "Original 238\n",
      "After duplicates removed 232\n"
     ]
    }
   ],
   "source": [
    "# Remove duplicates\n",
    "print (f\"Original {len(final_df)}\")\n",
    "duplicates_removed = final_df.drop_duplicates(subset=['news_source_name','title'])\n",
    "print (f\"After duplicates removed {len(duplicates_removed)}\")"
   ]
  },
  {
   "cell_type": "code",
   "execution_count": 15,
   "id": "3e192526",
   "metadata": {},
   "outputs": [
    {
     "name": "stderr",
     "output_type": "stream",
     "text": [
      "/var/folders/g4/1x4xl1_92cj02tdf3gqfw5qm0000gn/T/ipykernel_66561/654501386.py:3: DeprecationWarning: The order of arguments in worksheet.update() has changed. Please pass values first and range_name secondor used named arguments (range_name=, values=)\n",
      "  sheet.update(f'A{latest_empty_cell_row}', data_to_upload)\n"
     ]
    },
    {
     "data": {
      "text/plain": [
       "{'spreadsheetId': '19m61vn7V7pstGqXQuhA2hXv5fVDobMOtx2yggjhMBhM',\n",
       " 'updatedRange': \"'Czech Republic'!A2:M233\",\n",
       " 'updatedRows': 232,\n",
       " 'updatedColumns': 13,\n",
       " 'updatedCells': 3016}"
      ]
     },
     "execution_count": 15,
     "metadata": {},
     "output_type": "execute_result"
    }
   ],
   "source": [
    "# Convert DataFrame to list of lists and update the sheet\n",
    "data_to_upload = duplicates_removed.values.tolist()\n",
    "sheet.update(f'A{latest_empty_cell_row}', data_to_upload)"
   ]
  },
  {
   "cell_type": "code",
   "execution_count": null,
   "id": "c062263d",
   "metadata": {},
   "outputs": [],
   "source": []
  }
 ],
 "metadata": {
  "kernelspec": {
   "display_name": "Python 3 (ipykernel)",
   "language": "python",
   "name": "python3"
  },
  "language_info": {
   "codemirror_mode": {
    "name": "ipython",
    "version": 3
   },
   "file_extension": ".py",
   "mimetype": "text/x-python",
   "name": "python",
   "nbconvert_exporter": "python",
   "pygments_lexer": "ipython3",
   "version": "3.11.5"
  }
 },
 "nbformat": 4,
 "nbformat_minor": 5
}
